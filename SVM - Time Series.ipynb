{
 "cells": [
  {
   "cell_type": "code",
   "execution_count": 16,
   "metadata": {
    "collapsed": true
   },
   "outputs": [],
   "source": [
    "import pandas as pd\n",
    "import pandas_datareader as pdr\n",
    "from datetime import datetime\n",
    "from matplotlib import pyplot as plt\n",
    "import numpy as np\n",
    "from sklearn import preprocessing\n",
    "from pandas import concat\n",
    "from sklearn import svm\n",
    "from sklearn.metrics import mean_squared_error\n",
    "from math import sqrt\n",
    "from numpy import concatenate"
   ]
  },
  {
   "cell_type": "code",
   "execution_count": 5,
   "metadata": {},
   "outputs": [
    {
     "data": {
      "text/html": [
       "<div>\n",
       "<style>\n",
       "    .dataframe thead tr:only-child th {\n",
       "        text-align: right;\n",
       "    }\n",
       "\n",
       "    .dataframe thead th {\n",
       "        text-align: left;\n",
       "    }\n",
       "\n",
       "    .dataframe tbody tr th {\n",
       "        vertical-align: top;\n",
       "    }\n",
       "</style>\n",
       "<table border=\"1\" class=\"dataframe\">\n",
       "  <thead>\n",
       "    <tr style=\"text-align: right;\">\n",
       "      <th></th>\n",
       "      <th>Open</th>\n",
       "      <th>High</th>\n",
       "      <th>Low</th>\n",
       "      <th>Close</th>\n",
       "      <th>Adj Close</th>\n",
       "      <th>Volume</th>\n",
       "    </tr>\n",
       "    <tr>\n",
       "      <th>Date</th>\n",
       "      <th></th>\n",
       "      <th></th>\n",
       "      <th></th>\n",
       "      <th></th>\n",
       "      <th></th>\n",
       "      <th></th>\n",
       "    </tr>\n",
       "  </thead>\n",
       "  <tbody>\n",
       "    <tr>\n",
       "      <th>2012-06-06</th>\n",
       "      <td>26.070000</td>\n",
       "      <td>27.17</td>\n",
       "      <td>25.520000</td>\n",
       "      <td>26.809999</td>\n",
       "      <td>26.809999</td>\n",
       "      <td>61489200</td>\n",
       "    </tr>\n",
       "    <tr>\n",
       "      <th>2012-06-07</th>\n",
       "      <td>27.000000</td>\n",
       "      <td>27.35</td>\n",
       "      <td>26.150000</td>\n",
       "      <td>26.309999</td>\n",
       "      <td>26.309999</td>\n",
       "      <td>26159500</td>\n",
       "    </tr>\n",
       "    <tr>\n",
       "      <th>2012-06-08</th>\n",
       "      <td>26.549999</td>\n",
       "      <td>27.76</td>\n",
       "      <td>26.440001</td>\n",
       "      <td>27.100000</td>\n",
       "      <td>27.100000</td>\n",
       "      <td>38034000</td>\n",
       "    </tr>\n",
       "    <tr>\n",
       "      <th>2012-06-11</th>\n",
       "      <td>27.180000</td>\n",
       "      <td>28.07</td>\n",
       "      <td>26.840000</td>\n",
       "      <td>27.010000</td>\n",
       "      <td>27.010000</td>\n",
       "      <td>28219600</td>\n",
       "    </tr>\n",
       "    <tr>\n",
       "      <th>2012-06-12</th>\n",
       "      <td>27.480000</td>\n",
       "      <td>27.77</td>\n",
       "      <td>26.959999</td>\n",
       "      <td>27.400000</td>\n",
       "      <td>27.400000</td>\n",
       "      <td>15816800</td>\n",
       "    </tr>\n",
       "  </tbody>\n",
       "</table>\n",
       "</div>"
      ],
      "text/plain": [
       "                 Open   High        Low      Close  Adj Close    Volume\n",
       "Date                                                                   \n",
       "2012-06-06  26.070000  27.17  25.520000  26.809999  26.809999  61489200\n",
       "2012-06-07  27.000000  27.35  26.150000  26.309999  26.309999  26159500\n",
       "2012-06-08  26.549999  27.76  26.440001  27.100000  27.100000  38034000\n",
       "2012-06-11  27.180000  28.07  26.840000  27.010000  27.010000  28219600\n",
       "2012-06-12  27.480000  27.77  26.959999  27.400000  27.400000  15816800"
      ]
     },
     "execution_count": 5,
     "metadata": {},
     "output_type": "execute_result"
    }
   ],
   "source": [
    "ge = pdr.get_data_yahoo('GE', datetime(2000, 1, 1), datetime(2018, 1, 1))\n",
    "aapl = pdr.get_data_yahoo('AAPL', datetime(2000, 1, 1), datetime(2018, 1, 1))\n",
    "fb = pdr.get_data_yahoo('FB', datetime(2012, 6, 6), datetime(2018, 1, 1))\n",
    "gs = pdr.get_data_yahoo('GS', datetime(2000, 1, 1), datetime(2018, 1, 1))\n",
    "btc = pdr.get_data_yahoo('BTC-USD', datetime(2011, 1, 1), datetime(2018, 1, 1))\n",
    "fb.head()"
   ]
  },
  {
   "cell_type": "code",
   "execution_count": 6,
   "metadata": {},
   "outputs": [
    {
     "data": {
      "text/html": [
       "<div>\n",
       "<style>\n",
       "    .dataframe thead tr:only-child th {\n",
       "        text-align: right;\n",
       "    }\n",
       "\n",
       "    .dataframe thead th {\n",
       "        text-align: left;\n",
       "    }\n",
       "\n",
       "    .dataframe tbody tr th {\n",
       "        vertical-align: top;\n",
       "    }\n",
       "</style>\n",
       "<table border=\"1\" class=\"dataframe\">\n",
       "  <thead>\n",
       "    <tr style=\"text-align: right;\">\n",
       "      <th></th>\n",
       "      <th>Open</th>\n",
       "      <th>High</th>\n",
       "      <th>Low</th>\n",
       "      <th>Adj Close</th>\n",
       "    </tr>\n",
       "    <tr>\n",
       "      <th>Date</th>\n",
       "      <th></th>\n",
       "      <th></th>\n",
       "      <th></th>\n",
       "      <th></th>\n",
       "    </tr>\n",
       "  </thead>\n",
       "  <tbody>\n",
       "    <tr>\n",
       "      <th>2012-06-06</th>\n",
       "      <td>26.070000</td>\n",
       "      <td>27.17</td>\n",
       "      <td>25.520000</td>\n",
       "      <td>26.809999</td>\n",
       "    </tr>\n",
       "    <tr>\n",
       "      <th>2012-06-07</th>\n",
       "      <td>27.000000</td>\n",
       "      <td>27.35</td>\n",
       "      <td>26.150000</td>\n",
       "      <td>26.309999</td>\n",
       "    </tr>\n",
       "    <tr>\n",
       "      <th>2012-06-08</th>\n",
       "      <td>26.549999</td>\n",
       "      <td>27.76</td>\n",
       "      <td>26.440001</td>\n",
       "      <td>27.100000</td>\n",
       "    </tr>\n",
       "    <tr>\n",
       "      <th>2012-06-11</th>\n",
       "      <td>27.180000</td>\n",
       "      <td>28.07</td>\n",
       "      <td>26.840000</td>\n",
       "      <td>27.010000</td>\n",
       "    </tr>\n",
       "    <tr>\n",
       "      <th>2012-06-12</th>\n",
       "      <td>27.480000</td>\n",
       "      <td>27.77</td>\n",
       "      <td>26.959999</td>\n",
       "      <td>27.400000</td>\n",
       "    </tr>\n",
       "  </tbody>\n",
       "</table>\n",
       "</div>"
      ],
      "text/plain": [
       "                 Open   High        Low  Adj Close\n",
       "Date                                              \n",
       "2012-06-06  26.070000  27.17  25.520000  26.809999\n",
       "2012-06-07  27.000000  27.35  26.150000  26.309999\n",
       "2012-06-08  26.549999  27.76  26.440001  27.100000\n",
       "2012-06-11  27.180000  28.07  26.840000  27.010000\n",
       "2012-06-12  27.480000  27.77  26.959999  27.400000"
      ]
     },
     "execution_count": 6,
     "metadata": {},
     "output_type": "execute_result"
    }
   ],
   "source": [
    "#data preprocessing - dropping columns Close, Volume. Adj Close will be the Y variable\n",
    "ge.drop(['Close','Volume'],axis =1, inplace = True)\n",
    "aapl.drop(['Close','Volume'],axis =1, inplace = True)\n",
    "fb.drop(['Close','Volume'],axis =1, inplace = True)\n",
    "gs.drop(['Close','Volume'],axis =1, inplace = True)\n",
    "btc.drop(['Close','Volume'],axis =1, inplace = True)\n",
    "fb.head()"
   ]
  },
  {
   "cell_type": "code",
   "execution_count": 7,
   "metadata": {},
   "outputs": [
    {
     "data": {
      "image/png": "[encoded data removed]",
      "text/plain": [
       "<matplotlib.figure.Figure at 0x213961c7048>"
      ]
     },
     "metadata": {},
     "output_type": "display_data"
    },
    {
     "data": {
      "text/plain": [
       "None"
      ]
     },
     "metadata": {},
     "output_type": "display_data"
    }
   ],
   "source": [
    "plt.plot(fb[\"Adj Close\"])\n",
    "display(plt.show())"
   ]
  },
  {
   "cell_type": "code",
   "execution_count": 45,
   "metadata": {
    "collapsed": true
   },
   "outputs": [],
   "source": [
    "#All the machine learning models works well with scaled down data points.Its a good practise to range the data between 0,1\n",
    "#Not doing it now!!!"
   ]
  },
  {
   "cell_type": "code",
   "execution_count": 9,
   "metadata": {
    "collapsed": true
   },
   "outputs": [],
   "source": [
    "#####################################Training and Test data sets#############################################################\n",
    "#We cannot use cross validation method here to validate our model because sequence is important in time series.##############\n",
    "#Instead, we can split our past data into train data and test data.##########################################################"
   ]
  },
  {
   "cell_type": "code",
   "execution_count": 10,
   "metadata": {},
   "outputs": [
    {
     "name": "stdout",
     "output_type": "stream",
     "text": [
      "1261 141\n"
     ]
    }
   ],
   "source": [
    "#Using 90% of the data for training and 10% for testing\n",
    "fb_train_size = int(len(fb.values) * 0.9)\n",
    "fb_test_size = len(fb.values) - fb_train_size\n",
    "fb_train, fb_test = fb.values[0:fb_train_size,:], fb.values[fb_train_size:len(fb.values),:]\n",
    "\n",
    "ge_train_size = int(len(ge.values) * 0.9)\n",
    "ge_test_size = len(ge.values) - ge_train_size\n",
    "ge_train, ge_test = ge.values[0:ge_train_size,:], ge.values[ge_train_size:len(ge.values),:]\n",
    "\n",
    "aapl_train_size = int(len(aapl.values) * 0.9)\n",
    "aapl_test_size = len(aapl.values) - aapl_train_size\n",
    "aapl_train, aapl_test = aapl.values[0:aapl_train_size,:], aapl.values[aapl_train_size:len(aapl.values),:]\n",
    "\n",
    "gs_train_size = int(len(gs.values) * 0.9)\n",
    "gs_test_size = len(gs.values) - gs_train_size\n",
    "gs_train, gs_test = gs.values[0:gs_train_size,:], gs.values[gs_train_size:len(gs.values),:]\n",
    "\n",
    "btc_train_size = int(len(btc.values) * 0.9)\n",
    "btc_test_size = len(btc.values) - btc_train_size\n",
    "btc_train, btc_test = btc.values[0:btc_train_size,:], btc.values[btc_train_size:len(btc.values),:]\n",
    "\n",
    "print(len(fb_train), len(fb_test))"
   ]
  },
  {
   "cell_type": "code",
   "execution_count": 96,
   "metadata": {},
   "outputs": [
    {
     "data": {
      "text/plain": [
       "(256, 453)"
      ]
     },
     "execution_count": 96,
     "metadata": {},
     "output_type": "execute_result"
    }
   ],
   "source": [
    "Xnum = fb.shape[1]-1\n",
    "Xnum"
   ]
  },
  {
   "cell_type": "code",
   "execution_count": 13,
   "metadata": {
    "collapsed": true
   },
   "outputs": [],
   "source": [
    "fb_trainX = fb_train[:, :Xnum] \n",
    "fb_trainY = fb_train[:,-1]\n",
    "ge_trainX = ge_train[:, :Xnum] \n",
    "ge_trainY = ge_train[:,-1]\n",
    "aapl_trainX = aapl_train[:, :Xnum] \n",
    "aapl_trainY = aapl_train[:,-1]\n",
    "gs_trainX = gs_train[:, :Xnum] \n",
    "gs_trainY = gs_train[:,-1]\n",
    "btc_trainX = btc_train[:, :Xnum] \n",
    "btc_trainY = btc_train[:,-1]\n",
    "    \n",
    "fb_testX = fb_test[:, :Xnum] \n",
    "fb_testY = fb_test[:,-1]\n",
    "ge_testX = ge_test[:, :Xnum] \n",
    "ge_testY = ge_test[:,-1]\n",
    "aapl_testX = aapl_test[:, :Xnum] \n",
    "aapl_testY = aapl_test[:,-1]\n",
    "gs_testX = gs_test[:, :Xnum] \n",
    "gs_testY = gs_test[:,-1]\n",
    "btc_testX = btc_test[:, :Xnum] \n",
    "btc_testY = btc_test[:,-1]"
   ]
  },
  {
   "cell_type": "code",
   "execution_count": 14,
   "metadata": {
    "collapsed": true
   },
   "outputs": [],
   "source": [
    "#Input is reshaped to 3D    \n",
    "fb_trainX = np.reshape(fb_trainX,(fb_trainX.shape[0], Xnum))\n",
    "ge_trainX = np.reshape(ge_trainX,(ge_trainX.shape[0], Xnum))\n",
    "aapl_trainX = np.reshape(aapl_trainX,(aapl_trainX.shape[0], Xnum))\n",
    "gs_trainX = np.reshape(gs_trainX,(gs_trainX.shape[0], Xnum))\n",
    "btc_trainX = np.reshape(btc_trainX,(btc_trainX.shape[0], Xnum))\n",
    "\n",
    "fb_testX = np.reshape(fb_testX,(fb_testX.shape[0], Xnum))\n",
    "ge_testX = np.reshape(ge_testX,(ge_testX.shape[0], Xnum))\n",
    "aapl_testX = np.reshape(aapl_testX,(aapl_testX.shape[0], Xnum))\n",
    "gs_testX = np.reshape(gs_testX,(gs_testX.shape[0], Xnum))\n",
    "btc_testX = np.reshape(btc_testX,(btc_testX.shape[0], Xnum))"
   ]
  },
  {
   "cell_type": "code",
   "execution_count": 85,
   "metadata": {
    "collapsed": true
   },
   "outputs": [],
   "source": [
    "############################################# Build and fit LSTM Model #############################################"
   ]
  },
  {
   "cell_type": "code",
   "execution_count": 86,
   "metadata": {
    "collapsed": true
   },
   "outputs": [],
   "source": [
    "fb_svr = svm.SVR(kernel='rbf',C=100,gamma=.0000001).fit(fb_trainX,fb_trainY)\n",
    "fb_predictions = fb_svr.predict(fb_testX)"
   ]
  },
  {
   "cell_type": "code",
   "execution_count": 87,
   "metadata": {
    "collapsed": true
   },
   "outputs": [],
   "source": [
    "aapl_svr = svm.SVR(kernel='rbf',C=10,gamma=.000005).fit(aapl_trainX,aapl_trainY)\n",
    "aapl_predictions = aapl_svr.predict(aapl_testX)"
   ]
  },
  {
   "cell_type": "code",
   "execution_count": 109,
   "metadata": {
    "collapsed": true
   },
   "outputs": [],
   "source": [
    "ge_svr = svm.SVR(kernel='rbf',C=100,gamma=.000005).fit(ge_trainX,ge_trainY)\n",
    "ge_predictions = ge_svr.predict(ge_testX)"
   ]
  },
  {
   "cell_type": "code",
   "execution_count": 110,
   "metadata": {
    "collapsed": true
   },
   "outputs": [],
   "source": [
    "gs_svr = svm.SVR(kernel='rbf',C=100,gamma=.000005).fit(gs_trainX,gs_trainY)\n",
    "gs_predictions = aapl_svr.predict(gs_testX)"
   ]
  },
  {
   "cell_type": "code",
   "execution_count": null,
   "metadata": {
    "collapsed": true
   },
   "outputs": [],
   "source": [
    "btc_svr = svm.SVR(kernel='rbf',C=100,gamma=.00000001).fit(btc_trainX,btc_trainY)\n",
    "btc_predictions = btc_svr.predict(btc_testX)"
   ]
  },
  {
   "cell_type": "code",
   "execution_count": 98,
   "metadata": {
    "collapsed": true
   },
   "outputs": [],
   "source": [
    "fb_original = fb_testY\n",
    "aapl_original = aapl_testY\n",
    "ge_original = ge_testY\n",
    "gs_original = gs_testY\n",
    "btc_original = btc_testY"
   ]
  },
  {
   "cell_type": "code",
   "execution_count": 108,
   "metadata": {},
   "outputs": [
    {
     "name": "stdout",
     "output_type": "stream",
     "text": [
      "FB - Test RMSE: 1.402\n",
      "AAPL - Test RMSE: 4.704\n",
      "GE - Test RMSE: 7.852\n",
      "GS - Test RMSE: 12.142\n",
      "BTC - Test RMSE: 5783.372\n"
     ]
    }
   ],
   "source": [
    "#Calculate RMSE\n",
    "fb_rmse = sqrt(mean_squared_error(fb_original, fb_predictions))\n",
    "print('FB - Test RMSE: %.3f' % fb_rmse)\n",
    "aapl_rmse = sqrt(mean_squared_error(aapl_original, aapl_predictions))\n",
    "print('AAPL - Test RMSE: %.3f' % aapl_rmse)\n",
    "ge_rmse = sqrt(mean_squared_error(ge_original, ge_predictions))\n",
    "print('GE - Test RMSE: %.3f' % ge_rmse)\n",
    "gs_rmse = sqrt(mean_squared_error(gs_original, gs_predictions))\n",
    "print('GS - Test RMSE: %.3f' % gs_rmse)\n",
    "btc_rmse = sqrt(mean_squared_error(btc_original, btc_predictions))\n",
    "print('BTC - Test RMSE: %.3f' % btc_rmse)"
   ]
  },
  {
   "cell_type": "code",
   "execution_count": null,
   "metadata": {
    "collapsed": true
   },
   "outputs": [],
   "source": [
    "#FB\n",
    "fig = plt.figure()\n",
    "plt.plot(fb_predictions, color='red', label='Prediction')\n",
    "plt.plot(fb_original, color='blue', label='Original')\n",
    "plt.legend(loc='best')\n",
    "plt.title(\"FB SVR- Predictions Vs Original\")\n",
    "display(plt.show())\n",
    "plt.close(fig)"
   ]
  },
  {
   "cell_type": "code",
   "execution_count": null,
   "metadata": {
    "collapsed": true
   },
   "outputs": [],
   "source": [
    "#AAPL\n",
    "fig = plt.figure()\n",
    "plt.plot(aapl_predictions, color='red', label='Prediction')\n",
    "plt.plot(aapl_original, color='blue', label='Original')\n",
    "plt.legend(loc='best')\n",
    "plt.title(\"AAPL SVR- Predictions Vs Original\")\n",
    "display(plt.show())\n",
    "plt.close(fig)"
   ]
  },
  {
   "cell_type": "code",
   "execution_count": null,
   "metadata": {
    "collapsed": true
   },
   "outputs": [],
   "source": [
    "#GE\n",
    "fig = plt.figure()\n",
    "plt.plot(ge_predictions, color='red', label='Prediction')\n",
    "plt.plot(ge_original, color='blue', label='Original')\n",
    "plt.legend(loc='best')\n",
    "plt.title(\"GE SVR- Predictions Vs Original\")\n",
    "display(plt.show())\n",
    "plt.close(fig)"
   ]
  },
  {
   "cell_type": "code",
   "execution_count": null,
   "metadata": {
    "collapsed": true
   },
   "outputs": [],
   "source": [
    "#GS\n",
    "fig = plt.figure()\n",
    "plt.plot(gs_predictions, color='red', label='Prediction')\n",
    "plt.plot(gs_original, color='blue', label='Original')\n",
    "plt.legend(loc='best')\n",
    "plt.title(\"GS SVR- Predictions Vs Original\")\n",
    "display(plt.show())\n",
    "plt.close(fig)"
   ]
  },
  {
   "cell_type": "code",
   "execution_count": null,
   "metadata": {
    "collapsed": true
   },
   "outputs": [],
   "source": [
    "#BTC\n",
    "fig = plt.figure()\n",
    "plt.plot(btc_predictions, color='red', label='Prediction')\n",
    "plt.plot(btc_original, color='blue', label='Original')\n",
    "plt.legend(loc='best')\n",
    "plt.title(\"BTC SVR- Predictions Vs Original\")\n",
    "display(plt.show())\n",
    "plt.close(fig)"
   ]
  }
 ],
 "metadata": {
  "kernelspec": {
   "display_name": "Python 3",
   "language": "python",
   "name": "python3"
  },
  "language_info": {
   "codemirror_mode": {
    "name": "ipython",
    "version": 3
   },
   "file_extension": ".py",
   "mimetype": "text/x-python",
   "name": "python",
   "nbconvert_exporter": "python",
   "pygments_lexer": "ipython3",
   "version": "3.6.3"
  }
 },
 "nbformat": 4,
 "nbformat_minor": 2
}
